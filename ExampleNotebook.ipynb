{
 "cells": [
  {
   "cell_type": "markdown",
   "metadata": {},
   "source": [
    "#### Reinforcement Learning with BlueSky\n",
    "In this Jupyter Notebook we will look at how to use Bluesky for a simple Reinforcement Learning task.\n",
    "\n",
    "Lets start by importing the relevant modules:"
   ]
  },
  {
   "cell_type": "code",
   "execution_count": 1,
   "metadata": {},
   "outputs": [
    {
     "name": "stdout",
     "output_type": "stream",
     "text": [
      "Using Python-based geo functions\n",
      "Warning: RTree could not be loaded. areafilter get_intersecting and get_knearest won't work\n"
     ]
    }
   ],
   "source": [
    "import numpy as np\n",
    "\n",
    "import bluesky as bs\n",
    "from bluesky.simulation import ScreenIO\n",
    "\n",
    "#The Soft Actor Critic Class used for the Deep Reinforcement Learning part of this notebook\n",
    "from SAC.sac_agent import SAC"
   ]
  },
  {
   "cell_type": "markdown",
   "metadata": {},
   "source": [
    "We create a dummy class that acts as the screen of BlueSky. Since we don't want to actually load the screen from BlueSky here, a simple and small class is used instead to avoid errors when something within BlueSky is calling the echo function."
   ]
  },
  {
   "cell_type": "code",
   "execution_count": 2,
   "metadata": {},
   "outputs": [],
   "source": [
    "class ScreenDummy(ScreenIO):\n",
    "    \"\"\"\n",
    "    Dummy class for the screen. Inherits from ScreenIO to make sure all the\n",
    "    necessary methods are there. This class is there to reimplement the echo\n",
    "    method so that console messages are printed.\n",
    "    \"\"\"\n",
    "    def echo(self, text='', flags=0):\n",
    "        \"\"\"Just print echo messages\"\"\"\n",
    "        print(\"BlueSky console:\", text)"
   ]
  },
  {
   "cell_type": "markdown",
   "metadata": {},
   "source": [
    "The first step to take is to initialise bluesky (here imported as bs) as a disconnected, single simulation. Next we replace the screen object with our derived variant so that bluesky console messages are printed."
   ]
  },
  {
   "cell_type": "code",
   "execution_count": 3,
   "metadata": {},
   "outputs": [
    {
     "name": "stdout",
     "output_type": "stream",
     "text": [
      "Reading config from C:\\Users\\Jan\\bluesky\\settings.cfg\n",
      "Reading magnetic variation data\n",
      "Loading global navigation database...\n",
      "Reading cache: C:/Users/Jan/bluesky/data/cache\\py3\\navdata.p\n",
      "Failed to load OpenAP performance model\n",
      "Failed to load BADA performance model\n",
      "Successfully loaded plugin AREA\n",
      "Successfully loaded plugin DATAFEED\n"
     ]
    }
   ],
   "source": [
    "\n",
    "# initialize bluesky as non-networked simulation node\n",
    "\n",
    "bs.init(mode='sim', detached=True)\n",
    "\n",
    "# initialize dummy screen\n",
    "bs.scr = ScreenDummy()"
   ]
  },
  {
   "cell_type": "code",
   "execution_count": 37,
   "metadata": {},
   "outputs": [],
   "source": [
    "def reset_env():\n",
    "    bs.traf.delete(0)\n",
    "    bs.traf.cre('KL001',actype=\"A320\",acalt=3000,acspd=150)\n",
    "    return get_state()"
   ]
  },
  {
   "cell_type": "code",
   "execution_count": 50,
   "metadata": {},
   "outputs": [],
   "source": [
    "def do_action(action):\n",
    "    action = action * 2500\n",
    "    acid = bs.traf.id[0]\n",
    "    if -250<action<250:\n",
    "        bs.stack.stack(f'ALT {acid},{bs.traf.alt[0]},{250}')\n",
    "    if action > 0:\n",
    "        bs.stack.stack(f'ALT {acid},45000,{action}')\n",
    "    if action < 0:\n",
    "        bs.stack.stack(f'ALT {acid},0,{-action}')"
   ]
  },
  {
   "cell_type": "code",
   "execution_count": 21,
   "metadata": {},
   "outputs": [],
   "source": [
    "def get_state():\n",
    "    alt = (bs.traf.alt[0]-1500)/3000\n",
    "    vs = bs.traf.vs[0]\n",
    "    dis = (200 - bs.tools.geo.kwikdist(52,4,bs.traf.lat[0],bs.traf.lon[0])*1.852-100)/200\n",
    "\n",
    "    state = [alt,vs,dis]\n",
    "    return state"
   ]
  },
  {
   "cell_type": "code",
   "execution_count": null,
   "metadata": {},
   "outputs": [],
   "source": []
  },
  {
   "cell_type": "code",
   "execution_count": 32,
   "metadata": {},
   "outputs": [],
   "source": [
    "def get_reward(state):\n",
    "    alt = (state[0]*3000)+1500\n",
    "    dis = (state[2]*200)+100\n",
    "    if dis > 0 and alt> 0:\n",
    "        return abs(3000-alt)*-5/3000, 0\n",
    "    elif alt <= 0:\n",
    "        return -10, 1\n",
    "    elif dis <= 0:\n",
    "        return abs(100-alt)*-20/3000, 1\n",
    "        "
   ]
  },
  {
   "cell_type": "code",
   "execution_count": 8,
   "metadata": {},
   "outputs": [],
   "source": [
    "def get_update(state):\n",
    "    reward, done = get_reward(state)\n",
    "    state_ = get_state()\n",
    "    return state_,reward,done"
   ]
  },
  {
   "cell_type": "code",
   "execution_count": 31,
   "metadata": {},
   "outputs": [
    {
     "data": {
      "image/png": "[encoded data removed]",
      "text/plain": [
       "<Figure size 600x400 with 2 Axes>"
      ]
     },
     "metadata": {
      "needs_background": "light"
     },
     "output_type": "display_data"
    }
   ],
   "source": [
    "#heatmap of the reward function\n",
    "import matplotlib.pyplot as plt\n",
    "\n",
    "xarray = np.flip(np.arange(-10,210,1))\n",
    "yarray = np.flip(np.arange(-50,10000,50))\n",
    "\n",
    "reward_map = np.zeros((len(yarray),len(xarray)))\n",
    "\n",
    "for i in range(len(xarray)):\n",
    "    for j in range(len(yarray)):\n",
    "        state = [yarray[j],0,xarray[i]]\n",
    "        reward_map[j,i], _ = get_reward(state)\n",
    "        \n",
    "fig, ax = plt.subplots(figsize=(6, 4), dpi=100)\n",
    "figure = ax.imshow(reward_map, extent=[200,-10,-50,3000])\n",
    "\n",
    "cbar = plt.colorbar(figure)\n",
    "im = ax.get_images()\n",
    "extent =  im[0].get_extent()\n",
    "ax.set_aspect(abs((extent[1]-extent[0])/(extent[3]-extent[2]))/2)\n",
    "\n",
    "plt.show()"
   ]
  },
  {
   "cell_type": "code",
   "execution_count": 49,
   "metadata": {},
   "outputs": [
    {
     "name": "stdout",
     "output_type": "stream",
     "text": [
      "[0. 0. 0. 0. 0. 0. 0. 0.]\n",
      "172.3931462807866\n",
      "1989818.0\n",
      "BlueSky console: Base dt set to 1.0\n",
      "performance dt is unchanged.\n",
      "asas dt is unchanged.\n",
      "AREA dt is unchanged.\n",
      "DATAFEED.update dt is unchanged.\n",
      "[-0.10451999999999999, -7.62, 0.301598626549341]\n",
      "158.41790928811142\n",
      "[2786.64 2558.04 2329.44 2100.84 1872.24 1643.64 1415.04 1186.44]\n"
     ]
    }
   ],
   "source": [
    "_ = reset_env()\n",
    "bs.stack.stack('DT 1;FF')\n",
    "\n",
    "steps = 5\n",
    "actionlist = np.ones(8)*0 #[-2500,-2500,-2500,-2500,-2500,-2500,-2500,-2500,-2500,-2500,-2500,-2500,-2500,-2500,-2500,-2500]\n",
    "print(actionlist)\n",
    "alt = np.zeros(len(actionlist))\n",
    "vs = np.zeros(len(actionlist))\n",
    "j = 0\n",
    "print(bs.traf.gs[0])\n",
    "print(bs.sim.simt)\n",
    "\n",
    "for action in actionlist:\n",
    "    \n",
    "    for i in range(30):\n",
    "        do_action(action)\n",
    "        bs.sim.step()\n",
    "    \n",
    "    alt[j] = bs.traf.alt[0]\n",
    "    vs[j] = bs.traf.vs[0]\n",
    "    j+=1\n",
    "\n",
    "state = get_state()\n",
    "print(state)\n",
    "print(bs.traf.gs[0])\n",
    "print(alt)\n",
    "#print(vs)\n",
    "#print(bs.sim.simt)"
   ]
  },
  {
   "cell_type": "code",
   "execution_count": 52,
   "metadata": {},
   "outputs": [
    {
     "name": "stdout",
     "output_type": "stream",
     "text": [
      "DEVICE USED <torch.cuda.device object at 0x000001EE1856A470> Quadro P2000\n",
      "BlueSky console: Base dt set to 1.0\n",
      "performance dt is unchanged.\n",
      "asas dt is unchanged.\n",
      "AREA dt is unchanged.\n",
      "DATAFEED.update dt is unchanged.\n",
      "nan\n",
      "-62.584224841166666\n",
      "-58.37572346116666\n",
      "-56.10730240444444\n",
      "-52.713354992083325\n",
      "-51.63209004749999\n",
      "-49.257904899194436\n",
      "-47.775531565523806\n",
      "-46.244465970250005\n",
      "-45.47061152237037\n"
     ]
    }
   ],
   "source": [
    "bs.stack.stack('DT 1;FF')\n",
    "\n",
    "N_episodes = 100\n",
    "action_frequency = 30\n",
    "Rewards = np.zeros(N_episodes)\n",
    "agent = SAC(1,3)\n",
    "\n",
    "for episode in range(N_episodes):\n",
    "    #initialise episode\n",
    "    alt = np.array([])\n",
    "    dist = np.array([])\n",
    "    done = 0\n",
    "    state = reset_env()\n",
    "    total_reward = 0\n",
    "    while not done:\n",
    "        action = agent.step(state)\n",
    "        do_action(action[0][0])\n",
    "        for i in range(action_frequency):\n",
    "            bs.sim.step()\n",
    "        state_, reward, done = get_update(state)\n",
    "        agent.store_transition(state,state_,reward,action[0][0],done)\n",
    "        agent.train()\n",
    "        state = state_\n",
    "        total_reward += reward\n",
    "\n",
    "        alt = np.append(alt,(state[0]*3000)+1500)\n",
    "        dist = np.append(dist,(state[2]*200)+100)\n",
    "    Rewards[episode] = total_reward\n",
    "    if episode % 10 == 0:\n",
    "        print(np.mean(Rewards[0:episode]))"
   ]
  },
  {
   "cell_type": "code",
   "execution_count": 53,
   "metadata": {},
   "outputs": [
    {
     "data": {
      "text/plain": [
       "[<matplotlib.lines.Line2D at 0x1ed87ccbf10>]"
      ]
     },
     "execution_count": 53,
     "metadata": {},
     "output_type": "execute_result"
    },
    {
     "data": {
      "image/png": "[encoded data removed]",
      "text/plain": [
       "<Figure size 432x288 with 1 Axes>"
      ]
     },
     "metadata": {
      "needs_background": "light"
     },
     "output_type": "display_data"
    }
   ],
   "source": [
    "import matplotlib.pyplot as plt\n",
    "plt.plot(alt)"
   ]
  }
 ],
 "metadata": {
  "interpreter": {
   "hash": "42674b6842dc90fcec5a9ff48dfdca6628f105653c579a4061de22a336234134"
  },
  "kernelspec": {
   "display_name": "Python 3.10.4 ('BSRLnotebook')",
   "language": "python",
   "name": "python3"
  },
  "language_info": {
   "codemirror_mode": {
    "name": "ipython",
    "version": 3
   },
   "file_extension": ".py",
   "mimetype": "text/x-python",
   "name": "python",
   "nbconvert_exporter": "python",
   "pygments_lexer": "ipython3",
   "version": "3.10.4"
  },
  "orig_nbformat": 4
 },
 "nbformat": 4,
 "nbformat_minor": 2
}
