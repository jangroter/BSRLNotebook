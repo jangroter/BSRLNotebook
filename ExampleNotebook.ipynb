{
 "cells": [
  {
   "cell_type": "markdown",
   "metadata": {},
   "source": [
    "#### Reinforcement Learning with BlueSky\n",
    "In this Jupyter Notebook we will look at how to use Bluesky for a simple Reinforcement Learning task. The task at hand will be for the model to predict when to initialize the top of descent while being constraint to the dynamics of the aircraft model.\n",
    "\n",
    "Lets start by importing the relevant modules:"
   ]
  },
  {
   "cell_type": "code",
   "execution_count": 1,
   "metadata": {},
   "outputs": [
    {
     "name": "stdout",
     "output_type": "stream",
     "text": [
      "Using Python-based geo functions\n",
      "Warning: RTree could not be loaded. areafilter get_intersecting and get_knearest won't work\n"
     ]
    }
   ],
   "source": [
    "import numpy as np\n",
    "\n",
    "import bluesky as bs\n",
    "from bluesky.simulation import ScreenIO\n",
    "\n",
    "#The Soft Actor Critic Class used for the Deep Reinforcement Learning part of this notebook\n",
    "from SAC.sac_agent import SAC\n",
    "\n",
    "#Import the functions used during the Reinforcement Learning\n",
    "from functions import reset_env, do_action, get_update, get_reward, get_state"
   ]
  },
  {
   "cell_type": "markdown",
   "metadata": {},
   "source": [
    "We create a dummy class that acts as the screen of BlueSky. Since we don't want to actually load the screen from BlueSky here, a simple and small class is used instead to avoid errors when something within BlueSky is calling the echo function."
   ]
  },
  {
   "cell_type": "code",
   "execution_count": 2,
   "metadata": {},
   "outputs": [],
   "source": [
    "class ScreenDummy(ScreenIO):\n",
    "    \"\"\"\n",
    "    Dummy class for the screen. Inherits from ScreenIO to make sure all the\n",
    "    necessary methods are there. This class is there to reimplement the echo\n",
    "    method so that console messages are printed.\n",
    "    \"\"\"\n",
    "    def echo(self, text='', flags=0):\n",
    "        \"\"\"Just print echo messages\"\"\"\n",
    "        print(\"BlueSky console:\", text)"
   ]
  },
  {
   "cell_type": "markdown",
   "metadata": {},
   "source": [
    "The first step to take is to initialise bluesky (here imported as bs) as a disconnected, single simulation. Next we replace the screen object with our derived variant so that bluesky console messages are printed."
   ]
  },
  {
   "cell_type": "code",
   "execution_count": 3,
   "metadata": {},
   "outputs": [
    {
     "name": "stdout",
     "output_type": "stream",
     "text": [
      "Reading config from C:\\Users\\Jan\\bluesky\\settings.cfg\n",
      "Reading magnetic variation data\n",
      "Loading global navigation database...\n",
      "Reading cache: C:/Users/Jan/bluesky/data/cache\\py3\\navdata.p\n",
      "Failed to load OpenAP performance model\n",
      "Failed to load BADA performance model\n",
      "Successfully loaded plugin AREA\n",
      "Successfully loaded plugin DATAFEED\n"
     ]
    }
   ],
   "source": [
    "# initialize bluesky as non-networked simulation node\n",
    "\n",
    "bs.init(mode='sim', detached=True)\n",
    "\n",
    "# initialize dummy screen\n",
    "bs.scr = ScreenDummy()"
   ]
  },
  {
   "cell_type": "markdown",
   "metadata": {},
   "source": [
    "##### Visualizing the Reward Function in a Heatmap\n",
    "To visualize what the behavior of a properly trained model should look like, we visualize the space of the reward function in a heatmap."
   ]
  },
  {
   "cell_type": "code",
   "execution_count": 11,
   "metadata": {},
   "outputs": [
    {
     "data": {
      "image/png": "[encoded data removed]",
      "text/plain": [
       "<Figure size 600x300 with 2 Axes>"
      ]
     },
     "metadata": {
      "needs_background": "light"
     },
     "output_type": "display_data"
    }
   ],
   "source": [
    "#heatmap of the reward function\n",
    "import matplotlib.pyplot as plt\n",
    "\n",
    "# Generate the array of all x and y state pairs for which we want to visualize the reward\n",
    "# Note that because the RL model works with normalized state data, we normalize the x and y data\n",
    "xarray = np.flip(np.arange(-10,210,1))\n",
    "yarray = np.flip(np.arange(-50,5000,50))\n",
    "\n",
    "xnorm = (xarray-100)/200\n",
    "ynorm = (yarray-1500)/3000\n",
    "\n",
    "reward_map = np.zeros((len(ynorm),len(xnorm)))\n",
    "\n",
    "for i in range(len(xnorm)):\n",
    "    for j in range(len(ynorm)):\n",
    "        # get reward requires the state as an input, which contains also the vertical speed.\n",
    "        # for now just set that at zero.\n",
    "        state = [ynorm[j],0,xnorm[i]]\n",
    "        reward_map[j,i], _ = get_reward(state) # Returns a scalar reward, and a done flag\n",
    "        \n",
    "fig, ax = plt.subplots(figsize=(6, 3), dpi=100)\n",
    "figure = ax.imshow(reward_map, extent=[200,-10,-50,5000])\n",
    "\n",
    "cbar = plt.colorbar(figure)\n",
    "cbar.set_label('Reward value')\n",
    "im = ax.get_images()\n",
    "extent =  im[0].get_extent()\n",
    "ax.set_xlabel('Distance till runway (km)')\n",
    "ax.set_ylabel('Altitude (m)')\n",
    "ax.set_aspect(abs((extent[1]-extent[0])/(extent[3]-extent[2]))/2)\n",
    "\n",
    "plt.show()"
   ]
  },
  {
   "cell_type": "markdown",
   "metadata": {},
   "source": [
    "As you can see in the image, the reward map gives a penalty for premature landings and for being to high when the distance to runway is equal to zero.\n",
    "furthermore, the lowest penalty is given for flying a level flight at 3000m altitude for as long as possible.\n",
    "\n",
    "The expected behavior of a properly trained model is therefore to see it staying at 3000m for as long as possible before steeply descending to minimize the penalty at D = 0. \n",
    "\n",
    "#### Training the model:\n",
    "\n",
    "The next step is to train the model within bluesky, subjected to this reward function. \n",
    "\n",
    "To speed up the training the simulation timestep is set to 1 second and fastforward is activated through the stack command \"bs.stack.stack('DT 1; FF)\"\n",
    "\n",
    "\n"
   ]
  },
  {
   "cell_type": "code",
   "execution_count": 4,
   "metadata": {},
   "outputs": [
    {
     "name": "stdout",
     "output_type": "stream",
     "text": [
      "DEVICE USED <torch.cuda.device object at 0x00000284F620D1B0> Quadro P2000\n",
      "BlueSky console: Base dt set to 1.0\n",
      "performance dt is unchanged.\n",
      "asas dt is unchanged.\n",
      "AREA dt is unchanged.\n",
      "DATAFEED.update dt set to 1.0 to match integer multiple of base dt.\n"
     ]
    },
    {
     "name": "stderr",
     "output_type": "stream",
     "text": [
      "c:\\Users\\Jan\\Anaconda3\\envs\\BSRLnotebook\\lib\\site-packages\\numpy\\core\\fromnumeric.py:3474: RuntimeWarning: Mean of empty slice.\n",
      "  return _methods._mean(a, axis=axis, dtype=dtype,\n",
      "c:\\Users\\Jan\\Anaconda3\\envs\\BSRLnotebook\\lib\\site-packages\\numpy\\core\\_methods.py:189: RuntimeWarning: invalid value encountered in double_scalars\n",
      "  ret = ret.dtype.type(ret / rcount)\n"
     ]
    },
    {
     "name": "stdout",
     "output_type": "stream",
     "text": [
      "nan\n",
      "-177.2199084945\n",
      "-126.77108623108336\n",
      "-110.7987651052778\n",
      "-95.10422728316667\n",
      "-83.258329048\n",
      "-74.72666273419443\n",
      "-68.11839767661907\n",
      "-63.011062022270835\n",
      "-59.125399426092606\n",
      "-55.91806374238334\n",
      "-53.322223103090906\n",
      "-51.04310477761111\n",
      "-49.216469511\n",
      "-47.60028493141667\n",
      "-46.1259693647\n",
      "-44.779797377260415\n",
      "-43.52071743665687\n",
      "-42.45333175998149\n",
      "-41.463474974421054\n",
      "-40.53661219172499\n",
      "-39.70053748822222\n",
      "-38.91006605618182\n",
      "-38.18597110750724\n",
      "-37.5120322846875\n",
      "-36.865173974473336\n",
      "-36.26627103937179\n",
      "-35.71038264574074\n",
      "-35.1507899994881\n",
      "-34.63642735579885\n",
      "-34.15290202562778\n",
      "-33.67677743398388\n",
      "-33.23207621580729\n",
      "-32.80086925859091\n",
      "-32.39040216070098\n",
      "-31.987339439833335\n",
      "-31.613907090847224\n",
      "-31.251787147842343\n",
      "-30.911328726267545\n",
      "-30.58170379208974\n",
      "-30.266021690141667\n",
      "-29.967826721105684\n",
      "-29.68536783315476\n",
      "-29.405802824724802\n",
      "-29.143551260799242\n",
      "-28.896115284259256\n",
      "-28.662568592507245\n",
      "-28.436091177390068\n",
      "-28.223307920378474\n",
      "-28.024761355013602\n",
      "-27.824238959996666\n",
      "-27.636099402166668\n",
      "-27.44437847996474\n",
      "-27.25813632424528\n",
      "-27.076932002354933\n",
      "-26.898828373939395\n",
      "-26.72859714074405\n",
      "-26.55879167657602\n",
      "-26.395874345000003\n",
      "-26.232553901350283\n",
      "-26.079268762658334\n",
      "-25.930963371642076\n",
      "-25.786522946325267\n",
      "-25.649438409798943\n",
      "-25.520962790596354\n",
      "-25.39286426542308\n",
      "-25.262692262881313\n",
      "-25.142477105629354\n",
      "-25.02431723442647\n",
      "-24.91024858705314\n",
      "-24.796327012678574\n",
      "-24.684374731917845\n",
      "-24.578343435395837\n",
      "-24.47039621674658\n",
      "-24.36957757011712\n",
      "-24.272614110977777\n",
      "-24.1714521922193\n",
      "-24.07437812972078\n",
      "-23.983219868382477\n",
      "-23.890833043116032\n",
      "-23.804346057029164\n",
      "-23.720110420958846\n",
      "-23.635183442038617\n",
      "-23.554130158311246\n",
      "-23.47684047081151\n",
      "-23.402196367515682\n",
      "-23.323016428653098\n",
      "-23.25002980598276\n",
      "-23.175852616066287\n",
      "-23.104911894589886\n",
      "-23.03414862952222\n",
      "-22.968964806567765\n",
      "-22.900695685088767\n",
      "-22.83426084052688\n",
      "-22.77159794322163\n",
      "-22.71062243659649\n",
      "-22.649215274361108\n",
      "-22.587961300506876\n",
      "-22.530937781267006\n",
      "-22.470004754333335\n"
     ]
    }
   ],
   "source": [
    "bs.stack.stack('DT 1;FF')\n",
    "\n",
    "N_episodes = 1000 # how many episodes should the model train\n",
    "Rewards = np.zeros(N_episodes)\n",
    "\n",
    "action_frequency = 30 # how often should the RL model select an action for the aircraft (default once every 30 seconds)\n",
    "\n",
    "action_dim = 1\n",
    "state_dim = 3\n",
    "agent = SAC(action_dim,state_dim)\n",
    "\n",
    "alt = [[]]*N_episodes\n",
    "dist = [[]]*N_episodes\n",
    "\n",
    "for episode in range(N_episodes):\n",
    "    #initialise episode\n",
    "    done = 0\n",
    "    state = reset_env()\n",
    "    total_reward = 0\n",
    "\n",
    "    temp_alt = np.array([])\n",
    "    temp_dist = np.array([])\n",
    "    while not done:\n",
    "\n",
    "        action = agent.step(state)\n",
    "        do_action(action[0][0])\n",
    "\n",
    "        # Progress the simulation \n",
    "        for i in range(action_frequency):\n",
    "            bs.sim.step()\n",
    "        \n",
    "        # Get the information regarding the new environment state\n",
    "        state_, reward, done = get_update(state)\n",
    "\n",
    "        # Store the state transition and preform a training update\n",
    "        agent.store_transition(state,state_,reward,action[0][0],done)\n",
    "        agent.train()\n",
    "\n",
    "        # set the old state to the new state\n",
    "        state = state_\n",
    "\n",
    "        # Save relevant information for plotting purposes\n",
    "        total_reward += reward\n",
    "        temp_alt = np.append(temp_alt,(state[0]*3000)+1500)\n",
    "        temp_dist = np.append(temp_dist,(state[2]*200)+100)\n",
    "\n",
    "    alt[episode] = temp_alt\n",
    "    dist[episode] = temp_dist\n",
    "    Rewards[episode] = total_reward\n",
    "\n",
    "    # Some printing to see if the reward is increasing, e.g. is the model learning\n",
    "    if episode % 100 == 0:\n",
    "        print(np.mean(Rewards[0:episode]))"
   ]
  },
  {
   "cell_type": "markdown",
   "metadata": {},
   "source": [
    "### Plotting after Training"
   ]
  },
  {
   "cell_type": "markdown",
   "metadata": {},
   "source": [
    "#### Plotting the Trajectories"
   ]
  },
  {
   "cell_type": "code",
   "execution_count": 17,
   "metadata": {},
   "outputs": [
    {
     "data": {
      "image/png": "[encoded data removed]",
      "text/plain": [
       "<Figure size 432x288 with 1 Axes>"
      ]
     },
     "metadata": {
      "needs_background": "light"
     },
     "output_type": "display_data"
    }
   ],
   "source": [
    "import matplotlib.pyplot as plt\n",
    "from PIL import Image\n",
    "\n",
    "did_training = True\n",
    "\n",
    "if did_training:\n",
    "    fig, ax = plt.subplots(1, 1)\n",
    "    ax.plot(dist[9],alt[9], label='initial (random) behaviour')\n",
    "    ax.plot(dist[99],alt[99], label='policy after 100 episodes')\n",
    "    ax.plot(dist[999],alt[999], label='policy after 1000 episodes')\n",
    "    ax.legend()\n",
    "    ax.invert_xaxis()\n",
    "    plt.show()\n",
    "else:\n",
    "    fig = Image.open('TrajectoryEvolution.png')\n",
    "    fig.show()"
   ]
  },
  {
   "cell_type": "markdown",
   "metadata": {},
   "source": [
    "#### Plotting the rewards"
   ]
  },
  {
   "cell_type": "code",
   "execution_count": 13,
   "metadata": {},
   "outputs": [
    {
     "data": {
      "image/png": "[encoded data removed]",
      "text/plain": [
       "<Figure size 432x288 with 1 Axes>"
      ]
     },
     "metadata": {
      "needs_background": "light"
     },
     "output_type": "display_data"
    }
   ],
   "source": [
    "did_training = False\n",
    "\n",
    "if did_training:\n",
    "    fig, ax = plt.subplots(1, 1)\n",
    "    ax.plot(Rewards)\n",
    "    ax.set_xlabel('Episode Number')\n",
    "    ax.set_ylabel('Obtained Reward')\n",
    "    plt.show()\n",
    "else:\n",
    "    fig = Image.open('RewardEvolution.png')\n",
    "    fig.show()\n"
   ]
  }
 ],
 "metadata": {
  "interpreter": {
   "hash": "42674b6842dc90fcec5a9ff48dfdca6628f105653c579a4061de22a336234134"
  },
  "kernelspec": {
   "display_name": "Python 3.10.4 ('BSRLnotebook')",
   "language": "python",
   "name": "python3"
  },
  "language_info": {
   "codemirror_mode": {
    "name": "ipython",
    "version": 3
   },
   "file_extension": ".py",
   "mimetype": "text/x-python",
   "name": "python",
   "nbconvert_exporter": "python",
   "pygments_lexer": "ipython3",
   "version": "3.10.4"
  },
  "orig_nbformat": 4
 },
 "nbformat": 4,
 "nbformat_minor": 2
}
