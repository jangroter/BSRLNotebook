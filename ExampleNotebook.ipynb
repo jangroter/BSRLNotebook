{
 "cells": [
  {
   "cell_type": "markdown",
   "metadata": {},
   "source": [
    "#### Reinforcement Learning with BlueSky\n",
    "In this Jupyter Notebook we will look at how to use Bluesky for a simple Reinforcement Learning task. The task at hand will be for the model to predict when to initialize the top of descent while being constraint to the dynamics of the aircraft model.\n",
    "\n",
    "Lets start by importing the relevant modules:"
   ]
  },
  {
   "cell_type": "code",
   "execution_count": 1,
   "metadata": {},
   "outputs": [
    {
     "name": "stdout",
     "output_type": "stream",
     "text": [
      "Using Python-based geo functions\n",
      "Warning: RTree could not be loaded. areafilter get_intersecting and get_knearest won't work\n"
     ]
    }
   ],
   "source": [
    "import numpy as np\n",
    "\n",
    "import bluesky as bs\n",
    "from bluesky.simulation import ScreenIO\n",
    "\n",
    "#The Soft Actor Critic Class used for the Deep Reinforcement Learning part of this notebook\n",
    "from SAC.sac_agent import SAC"
   ]
  },
  {
   "cell_type": "markdown",
   "metadata": {},
   "source": [
    "We create a dummy class that acts as the screen of BlueSky. Since we don't want to actually load the screen from BlueSky here, a simple and small class is used instead to avoid errors when something within BlueSky is calling the echo function."
   ]
  },
  {
   "cell_type": "code",
   "execution_count": 2,
   "metadata": {},
   "outputs": [],
   "source": [
    "class ScreenDummy(ScreenIO):\n",
    "    \"\"\"\n",
    "    Dummy class for the screen. Inherits from ScreenIO to make sure all the\n",
    "    necessary methods are there. This class is there to reimplement the echo\n",
    "    method so that console messages are printed.\n",
    "    \"\"\"\n",
    "    def echo(self, text='', flags=0):\n",
    "        \"\"\"Just print echo messages\"\"\"\n",
    "        print(\"BlueSky console:\", text)"
   ]
  },
  {
   "cell_type": "markdown",
   "metadata": {},
   "source": [
    "The first step to take is to initialise bluesky (here imported as bs) as a disconnected, single simulation. Next we replace the screen object with our derived variant so that bluesky console messages are printed."
   ]
  },
  {
   "cell_type": "code",
   "execution_count": 3,
   "metadata": {},
   "outputs": [
    {
     "name": "stdout",
     "output_type": "stream",
     "text": [
      "Reading config from C:\\Users\\Jan\\bluesky\\settings.cfg\n",
      "Reading magnetic variation data\n",
      "Loading global navigation database...\n",
      "Reading cache: C:/Users/Jan/bluesky/data/cache\\py3\\navdata.p\n",
      "Failed to load OpenAP performance model\n",
      "Failed to load BADA performance model\n",
      "Successfully loaded plugin AREA\n",
      "Successfully loaded plugin DATAFEED\n"
     ]
    }
   ],
   "source": [
    "# initialize bluesky as non-networked simulation node\n",
    "\n",
    "bs.init(mode='sim', detached=True)\n",
    "\n",
    "# initialize dummy screen\n",
    "bs.scr = ScreenDummy()"
   ]
  },
  {
   "cell_type": "markdown",
   "metadata": {},
   "source": [
    "#### Functions\n",
    "\n",
    "To allow reinforcement learning to be incorporated with Bluesky, we need to make some additional functions that create the bridge between the reinforcement learning algorithm and Bluesky. These functions are:\n",
    "\n",
    "* reset\\_env() -> state_\n",
    "* get\\_state() -> state_\n",
    "* get\\_reward(state_) -> reward, done\n",
    "* get\\_update() -> state_, reward, done\n",
    "* do_action(action) -> None\n",
    "\n",
    "In these functions only 'state\\_' is used, which refers to the most recent state information. The RL model also takes 'state' as an input for the memory buffer to allow proper learning of the state transition and therefore Critic functions. This 'state' variable refers to the state preceding 'state\\_'. \n"
   ]
  },
  {
   "cell_type": "markdown",
   "metadata": {},
   "source": [
    "##### reset\\_env() -> state_"
   ]
  },
  {
   "cell_type": "code",
   "execution_count": 4,
   "metadata": {},
   "outputs": [],
   "source": [
    "\"\"\"\n",
    "reset_env() removes the previous aircraft from the simulation. In principle only one aircraft\n",
    "should exist, but loops through all aircraft in this example. Then creates a new aircraft.\n",
    "\"\"\"\n",
    "def reset_env():\n",
    "\n",
    "    for acid in bs.traf.id:\n",
    "        idx = bs.traf.id2idx(acid)\n",
    "        bs.traf.delete(idx)\n",
    "\n",
    "    bs.traf.cre('KL001',actype=\"A320\",acalt=3000,acspd=150)\n",
    "\n",
    "    return get_state()"
   ]
  },
  {
   "cell_type": "markdown",
   "metadata": {},
   "source": [
    "##### get\\_state() -> state_"
   ]
  },
  {
   "cell_type": "code",
   "execution_count": 5,
   "metadata": {},
   "outputs": [],
   "source": [
    "\"\"\"\n",
    "get_state() accesses the traffic arrays of Bluesky to create and return a state for the aircraft.\n",
    "In this case only 1 aircraft is used, so aircraft ID index == 0, but with multiple agents get_state()\n",
    "should require the aircraft ID index as input to access the correct state info.\n",
    "\"\"\"\n",
    "def get_state():\n",
    "    # get current altitude, vertical speed and distance to the runway (set at 200km from origin)\n",
    "    alt = bs.traf.alt[0]\n",
    "    vs = bs.traf.vs[0]\n",
    "    dis =(200 - bs.tools.geo.kwikdist(52,4,bs.traf.lat[0],bs.traf.lon[0])*1.852)\n",
    "\n",
    "    # (roughly) normalize the state values to a mean of zero and variance 1\n",
    "    # (for more complex environments its better to calculate the mean and std over \n",
    "    # a series of interactions with the environment)\n",
    "    alt = (alt - 1500)/3000\n",
    "    vs = vs / 5\n",
    "    dis = (dis - 100)/200\n",
    "\n",
    "    state = [alt,vs,dis]\n",
    "\n",
    "    return state"
   ]
  },
  {
   "cell_type": "markdown",
   "metadata": {},
   "source": [
    "##### get\\_reward(state_) -> reward, done"
   ]
  },
  {
   "cell_type": "code",
   "execution_count": 6,
   "metadata": {},
   "outputs": [],
   "source": [
    "\"\"\"\n",
    "get_reward(state) uses the (new) state variable to calculate a corresponding reward.\n",
    "In principle the designed reward function will control the behaviour of the model after convergence,\n",
    "so reward function design should be done with care. \n",
    "If a model does not do what you want, maybe this function is not stimulating the appropriate behaviour.\n",
    "\"\"\"\n",
    "def get_reward(state):\n",
    "    # denormalize the relevant state variables\n",
    "    alt = (state[0]*3000)+1500\n",
    "    dis = (state[2]*200)+100\n",
    "\n",
    "    # reward part of the function\n",
    "    if dis > 0 and alt> 0:\n",
    "        return abs(3000-alt)*-5/3000, 0\n",
    "    elif alt <= 0:\n",
    "        return -100, 1\n",
    "    elif dis <= 0:\n",
    "        return abs(100-alt)*-50/3000, 1"
   ]
  },
  {
   "cell_type": "markdown",
   "metadata": {},
   "source": [
    "The implemented reward function:\n",
    "\n",
    "$$r_t(d,h) = \\left\\{\\begin{matrix}\n",
    "|3000-h|*-5/3000 & d>0, h>0\\\\ \n",
    "|100-h|*-50/3000 & d<0, h>0\\\\ \n",
    "-100 &  h<0\n",
    "\\end{matrix}\\right.$$\n",
    "\n",
    "As shown in the system of equations, the reward map gives a penalty for premature landings and for being to high when the distance to runway is equal to zero.\n",
    "Furthermore, the lowest penalty is given for flying a level flight at 3000m altitude for as long as possible.\n",
    "\n",
    "The expected behavior of a properly trained model is therefore to see it staying at 3000m for as long as possible before steeply descending to minimize the penalty at D = 0. "
   ]
  },
  {
   "cell_type": "markdown",
   "metadata": {},
   "source": [
    "##### get\\_update() -> state_, reward, done"
   ]
  },
  {
   "cell_type": "code",
   "execution_count": 7,
   "metadata": {},
   "outputs": [],
   "source": [
    "\"\"\"\n",
    "get_update() returns the values from get_state() and get_reward(state) for the new simulation step in \n",
    "a single function. \n",
    "\"\"\"\n",
    "def get_update():\n",
    "    state_ = get_state()\n",
    "    reward, done = get_reward(state_)\n",
    "    return state_,reward,done"
   ]
  },
  {
   "cell_type": "markdown",
   "metadata": {},
   "source": [
    "##### do_action(action) -> None"
   ]
  },
  {
   "cell_type": "code",
   "execution_count": 8,
   "metadata": {},
   "outputs": [],
   "source": [
    "\"\"\"\n",
    "do_action(action) takes the output of the RL model and translates it to an action intepretable \n",
    "by Blueksy. As the output of the RL model is -1 < action < 1, we first map it to sensible values.\n",
    "Then the action is executed through stack commands in the Bluesky simulator.\n",
    "\"\"\"\n",
    "def do_action(action):\n",
    "    # Transform action to the feet per minute domain\n",
    "    action = action * 2500\n",
    "\n",
    "    # Get aircraft ID of the controlled aircraft\n",
    "    acid = bs.traf.id[0]\n",
    "\n",
    "    # Bluesky interpretes vertical velocity command through altitude commands \n",
    "    # with a vertical speed (magnitude). So check sign of action and give arbitrary \n",
    "    # altitude command\n",
    "\n",
    "    # The actions are then executed through stack commands;\n",
    "    if -250<action<250:\n",
    "        bs.stack.stack(f'ALT {acid},{bs.traf.alt[0]},{0}')\n",
    "    elif action > 0:\n",
    "        bs.stack.stack(f'ALT {acid},45000,{action}')\n",
    "    elif action < 0:\n",
    "        bs.stack.stack(f'ALT {acid},0,{-action}')"
   ]
  },
  {
   "cell_type": "markdown",
   "metadata": {},
   "source": [
    "\n",
    "\n",
    "#### Training the model:\n",
    "\n",
    "The next step is to train the model within bluesky, subjected to this reward function. \n",
    "\n",
    "To speed up the training the simulation timestep is set to 1 second and fastforward is activated through the stack command \"bs.stack.stack('DT 1; FF)\"\n",
    "\n",
    "\n"
   ]
  },
  {
   "cell_type": "code",
   "execution_count": 9,
   "metadata": {},
   "outputs": [
    {
     "name": "stdout",
     "output_type": "stream",
     "text": [
      "DEVICE USED <torch.cuda.device object at 0x00000245767D5540> Quadro P2000\n",
      "BlueSky console: Base dt set to 1.0\n",
      "performance dt is unchanged.\n",
      "asas dt is unchanged.\n",
      "AREA dt is unchanged.\n",
      "DATAFEED.update dt set to 1.0 to match integer multiple of base dt.\n",
      "-134.3408\n",
      "-79.06548929767327\n",
      "-59.4066485102902\n",
      "-49.85616801109635\n",
      "-43.765679434567744\n"
     ]
    }
   ],
   "source": [
    "bs.stack.stack('DT 1;FF')\n",
    "\n",
    "N_episodes = 500 # how many episodes should the model train\n",
    "Rewards = np.zeros(N_episodes)\n",
    "\n",
    "action_frequency = 30 # how often should the RL model select an action for the aircraft (default once every 30 seconds)\n",
    "\n",
    "action_dim = 1\n",
    "state_dim = 3\n",
    "\n",
    "# Initialize the RL agent by specifiyng the number of outputs (actions), and inputs (states)\n",
    "agent = SAC(action_dim,state_dim)\n",
    "\n",
    "\"\"\"\n",
    "if you want to play with the hyperparameters of the RL model, use the following inputs:\n",
    "\n",
    "agent = SAC(self, action_dim, state_dim, alpha = LR_A, beta = LR_Q, gamma = GAMMA, tau = TAU,\n",
    "            n_neurons = N_NEURONS, buffer_size = BUFFER_SIZE, batch_size = BATCH_SIZE)\n",
    "\n",
    "alpha -> actor learnrate, 0.003\n",
    "beta -> critic learnrate, 0.003\n",
    "gamma -> importance of future transitions, 1 is infinite lookahead, 0 no lookahead, 0.995\n",
    "tau -> magnitude of the updates done to the target networks, comparable to a low-pass filter for the networks, 0.005\n",
    "n_neurons -> number of neurons per layer of the networks, 256\n",
    "buffer_size -> number of most recent interactions stored in the memory, 1000000\n",
    "batch_size -> samples taken from the buffer per learn step, 256\n",
    "\n",
    "\"\"\"\n",
    "\n",
    "# Create empty arrays for logging the data\n",
    "alt = [[]]*N_episodes\n",
    "dist = [[]]*N_episodes\n",
    "\n",
    "for episode in range(N_episodes):\n",
    "    #initialise episode\n",
    "    done = 0\n",
    "    state = reset_env()\n",
    "    total_reward = 0\n",
    "\n",
    "    temp_alt = np.array([])\n",
    "    temp_dist = np.array([])\n",
    "    while not done:\n",
    "\n",
    "        action = agent.step(state)\n",
    "        # action is returned as [[action]]\n",
    "        do_action(action[0][0])\n",
    "\n",
    "        # Progress the simulation \n",
    "        for i in range(action_frequency):\n",
    "            bs.sim.step()\n",
    "        \n",
    "        # Get the information regarding the new environment state\n",
    "        state_, reward, done = get_update()\n",
    "\n",
    "        # Store the state transition and preform a training update\n",
    "        agent.store_transition(state,state_,reward,action[0][0],done)\n",
    "        agent.train()\n",
    "\n",
    "        # set the old state to the new state\n",
    "        state = state_\n",
    "\n",
    "        # Save relevant information for plotting purposes\n",
    "        total_reward += reward\n",
    "        temp_alt = np.append(temp_alt,(state[0]*3000)+1500)\n",
    "        temp_dist = np.append(temp_dist,(state[2]*200)+100)\n",
    "\n",
    "    alt[episode] = temp_alt\n",
    "    dist[episode] = temp_dist\n",
    "    Rewards[episode] = total_reward\n",
    "\n",
    "    # Some printing to see if the reward is increasing, e.g. is the model learning\n",
    "    if episode % 100 == 0:\n",
    "        print(np.mean(Rewards[0:episode+1]))"
   ]
  },
  {
   "cell_type": "markdown",
   "metadata": {},
   "source": [
    "### Plotting after Training"
   ]
  },
  {
   "cell_type": "markdown",
   "metadata": {},
   "source": [
    "#### Plotting the Trajectories"
   ]
  },
  {
   "cell_type": "code",
   "execution_count": 10,
   "metadata": {},
   "outputs": [
    {
     "data": {
      "image/png": "[encoded data removed]",
      "text/plain": [
       "<Figure size 432x288 with 1 Axes>"
      ]
     },
     "metadata": {
      "needs_background": "light"
     },
     "output_type": "display_data"
    }
   ],
   "source": [
    "import matplotlib.pyplot as plt\n",
    "from PIL import Image\n",
    "\n",
    "did_training = True\n",
    "\n",
    "if did_training:\n",
    "    fig, ax = plt.subplots(1, 1)\n",
    "    ax.plot(dist[9],alt[9], label='initial (random) behaviour')\n",
    "    ax.plot(dist[99],alt[99], label='policy after 100 episodes')\n",
    "    ax.plot(dist[499],alt[499], label='policy after 500 episodes')\n",
    "    ax.legend()\n",
    "    ax.invert_xaxis()\n",
    "    plt.show()\n",
    "else:\n",
    "    fig = Image.open('figures/TrajectoryEvolution.png')\n",
    "    fig.show()"
   ]
  },
  {
   "cell_type": "markdown",
   "metadata": {},
   "source": [
    "#### Plotting the rewards"
   ]
  },
  {
   "cell_type": "code",
   "execution_count": 13,
   "metadata": {},
   "outputs": [
    {
     "data": {
      "image/png": "[encoded data removed]",
      "text/plain": [
       "<Figure size 432x288 with 1 Axes>"
      ]
     },
     "metadata": {
      "needs_background": "light"
     },
     "output_type": "display_data"
    }
   ],
   "source": [
    "did_training = True\n",
    "\n",
    "if did_training:\n",
    "    fig, ax = plt.subplots(1, 1)\n",
    "    ax.plot(Rewards)\n",
    "    ax.set_xlabel('Episode Number')\n",
    "    ax.set_ylabel('Obtained Reward')\n",
    "    plt.show()\n",
    "else:\n",
    "    fig = Image.open('figures/RewardEvolution.png')\n",
    "    fig.show()\n"
   ]
  },
  {
   "cell_type": "markdown",
   "metadata": {},
   "source": [
    "In this figure you can see evolution of the rewards. As you can see during the final couple of episodes the model adopts a higher risk reward strategy trying to be at 0m altitude at the runway, but it also starts missing the runway a couple of times, leading to the negative reward spikes. Likely with more training this behavior would be removed aswell. "
   ]
  }
 ],
 "metadata": {
  "kernelspec": {
   "display_name": "Python 3.10.4 ('BSRLnotebook')",
   "language": "python",
   "name": "python3"
  },
  "language_info": {
   "codemirror_mode": {
    "name": "ipython",
    "version": 3
   },
   "file_extension": ".py",
   "mimetype": "text/x-python",
   "name": "python",
   "nbconvert_exporter": "python",
   "pygments_lexer": "ipython3",
   "version": "3.10.4"
  },
  "orig_nbformat": 4,
  "vscode": {
   "interpreter": {
    "hash": "42674b6842dc90fcec5a9ff48dfdca6628f105653c579a4061de22a336234134"
   }
  }
 },
 "nbformat": 4,
 "nbformat_minor": 2
}
